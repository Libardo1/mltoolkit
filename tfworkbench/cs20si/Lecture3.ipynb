{
 "cells": [
  {
   "cell_type": "markdown",
   "metadata": {
    "deletable": true,
    "editable": true
   },
   "source": [
    "# Lecture 3: Linear and Logistic Regression\n",
    "\n",
    "http://web.stanford.edu/class/cs20si/lectures/slides_03.pdf\n",
    "\n",
    "Simple linear regression example in TensorFlow\n",
    "This program tries to predict the number of thefts from \n",
    "the number of fire in the city of Chicago"
   ]
  },
  {
   "cell_type": "code",
   "execution_count": 1,
   "metadata": {
    "collapsed": true
   },
   "outputs": [],
   "source": [
    "\"\"\"\n",
    "All imports\n",
    "\"\"\"\n",
    "\n",
    "import numpy as np\n",
    "import matplotlib.pyplot as plt\n",
    "import tensorflow as tf\n",
    "import xlrd\n",
    "from util import newlogname\n",
    "import sys\n",
    "from tensorflow.examples.tutorials.mnist import input_data\n",
    "import time\n",
    "\n",
    "%matplotlib inline\n"
   ]
  },
  {
   "cell_type": "markdown",
   "metadata": {},
   "source": [
    "# Linear Regression"
   ]
  },
  {
   "cell_type": "code",
   "execution_count": 2,
   "metadata": {
    "collapsed": false,
    "deletable": true,
    "editable": true
   },
   "outputs": [],
   "source": [
    "DATA_FILE = 'data/fire_theft.xls'\n",
    "\n",
    "# Phase 1: Assemble the graph\n",
    "# Step 1: read in data from the .xls file\n",
    "book = xlrd.open_workbook(DATA_FILE, encoding_override='utf-8')\n",
    "sheet = book.sheet_by_index(0)\n",
    "data = np.asarray([sheet.row_values(i) for i in range(1, sheet.nrows)])\n",
    "n_samples = sheet.nrows - 1"
   ]
  },
  {
   "cell_type": "code",
   "execution_count": 3,
   "metadata": {
    "collapsed": false
   },
   "outputs": [
    {
     "name": "stdout",
     "output_type": "stream",
     "text": [
      "Dataset size =  42\n",
      "\n",
      "First 5 observations of the dataset:\n",
      "\n",
      "[[  6.2  29. ]\n",
      " [  9.5  44. ]\n",
      " [ 10.5  36. ]\n",
      " [  7.7  37. ]\n",
      " [  8.6  53. ]]\n"
     ]
    }
   ],
   "source": [
    "print(\"Dataset size = \", len(data))\n",
    "print(\"\\nFirst 5 observations of the dataset:\\n\")\n",
    "print(data[0:5])"
   ]
  },
  {
   "cell_type": "markdown",
   "metadata": {},
   "source": [
    "### Defining the model, i.e., the graph and the session for training"
   ]
  },
  {
   "cell_type": "code",
   "execution_count": 4,
   "metadata": {
    "collapsed": false,
    "deletable": true,
    "editable": true
   },
   "outputs": [],
   "source": [
    "def linear_regression(log_path, lr=0.001,loss_function=None):\n",
    "    \n",
    "    graph = tf.Graph() \n",
    "    with graph.as_default():\n",
    "        # Step 2: create placeholders for input X (number of fire) and label Y (number of theft)\n",
    "\n",
    "        number_fire = tf.placeholder(tf.float32,shape=[],name=\"X\")\n",
    "        number_theft = tf.placeholder(tf.float32,shape=[],name=\"Y\")\n",
    "\n",
    "\n",
    "        # Step 3: create weight and bias, initialized to 0\n",
    "        # name your variables w and b\n",
    "        with tf.name_scope(\"Weights\"):\n",
    "            weight = tf.get_variable(\"w\",dtype=tf.float32,initializer=0.)\n",
    "            bias = tf.get_variable(\"b\",dtype=tf.float32,initializer=0.)\n",
    "            tf.summary.histogram('weights_summ',weight)\n",
    "            tf.summary.histogram('bias_summ',bias)\n",
    "\n",
    "        # Step 4: predict Y (number of theft) from the number of fire\n",
    "        # name your variable Y_predicted\n",
    "        with tf.name_scope(\"linear-model\"):\n",
    "            Y_predicted = (number_fire*weight) + bias \n",
    "\n",
    "        # Step 5: use the square error as the loss function\n",
    "        # name your variable loss\n",
    "        with tf.name_scope(\"loss-fuction\"):\n",
    "            if loss_function is None:\n",
    "                loss = tf.pow((Y_predicted -number_theft),2)\n",
    "            else:\n",
    "                loss = loss_function(number_theft, Y_predicted)\n",
    "            tf.summary.scalar(\"loss\",loss)\n",
    "\n",
    "        # Step 6: using gradient descent with learning rate of 0.01 to minimize loss\n",
    "        with tf.name_scope(\"train\"):\n",
    "            optimizer = tf.train.GradientDescentOptimizer(learning_rate=lr).minimize(loss)\n",
    "\n",
    "\n",
    "    # Phase 2: Train our model\n",
    "    with tf.Session(graph=graph) as sess:\n",
    "        print(\"\\n ==Beggining training for lr={}==\".format(lr))\n",
    "        summary_writer = tf.summary.FileWriter(log_path,sess.graph)\n",
    "        all_summaries = tf.summary.merge_all() \n",
    "        # Step 7: initialize the necessary variables, in this case, w and b\n",
    "        tf.global_variables_initializer().run()\n",
    "        # Step 8: train the model\n",
    "        step = 0\n",
    "        total_steps = len(data)*100\n",
    "        for i in range(100): # run 100 epochs\n",
    "            total_loss = 0\n",
    "            for x, y in data:\n",
    "                # Session runs optimizer to minimize loss and fetch the value of loss\n",
    "                step += 1\n",
    "                feed_dict = {number_fire:x, number_theft:y}\n",
    "                _,l,summary,w,b = sess.run([optimizer,loss,all_summaries, weight,bias], feed_dict=feed_dict)\n",
    "\n",
    "                #writing the log\n",
    "                summary_writer.add_summary(summary,step)\n",
    "                summary_writer.flush()\n",
    "\n",
    "                total_loss += l\n",
    "                # sys.stdout.write('\\r{} / {} : pp = {}'.format(step, total_steps,total_loss))\n",
    "                # sys.stdout.flush()\n",
    "            if i%10==0:\n",
    "                print(\"\\nEpoch {0}: {1}\".format(i, total_loss/n_samples))\n",
    "    return total_loss,w,b\n"
   ]
  },
  {
   "cell_type": "markdown",
   "metadata": {},
   "source": [
    "### After defined the model we can run different trainings with different learning rates to check which one is the best"
   ]
  },
  {
   "cell_type": "code",
   "execution_count": 5,
   "metadata": {
    "collapsed": false
   },
   "outputs": [
    {
     "name": "stdout",
     "output_type": "stream",
     "text": [
      "\n",
      " ==Beggining training for lr=0.0009==\n",
      "\n",
      "Epoch 0: 1775.2119261437938\n",
      "\n",
      "Epoch 10: 1653.5637995948393\n",
      "\n",
      "Epoch 20: 1537.7932460307466\n",
      "\n",
      "Epoch 30: 1454.4950013958983\n",
      "\n",
      "Epoch 40: 1393.7797238769099\n",
      "\n",
      "Epoch 50: 1349.005913916798\n",
      "\n",
      "Epoch 60: 1315.6468483918745\n",
      "\n",
      "Epoch 70: 1290.5730496667647\n",
      "\n",
      "Epoch 80: 1271.584222030216\n",
      "\n",
      "Epoch 90: 1257.114225530997\n",
      "\n",
      " ==Beggining training for lr=0.00087==\n",
      "\n",
      "Epoch 0: 1696.1530765706584\n",
      "\n",
      "Epoch 10: 1578.6739477940969\n",
      "\n",
      "Epoch 20: 1472.5063404076334\n",
      "\n",
      "Epoch 30: 1395.6836117442165\n",
      "\n",
      "Epoch 40: 1339.392999981131\n",
      "\n",
      "Epoch 50: 1297.6737101645697\n",
      "\n",
      "Epoch 60: 1266.4380452441746\n",
      "\n",
      "Epoch 70: 1242.84422111412\n",
      "\n",
      "Epoch 80: 1224.8863509127737\n",
      "\n",
      "Epoch 90: 1211.13078761562\n",
      "\n",
      " ==Beggining training for lr=0.00075==\n",
      "\n",
      "Epoch 0: 1421.2475874310448\n",
      "\n",
      "Epoch 10: 1310.3567895946048\n",
      "\n",
      "Epoch 20: 1237.2140785129297\n",
      "\n",
      "Epoch 30: 1183.1046448818274\n",
      "\n",
      "Epoch 40: 1142.6468263798909\n",
      "\n",
      "Epoch 50: 1112.0881879467163\n",
      "\n",
      "Epoch 60: 1088.786351671531\n",
      "\n",
      "Epoch 70: 1070.8637784969594\n",
      "\n",
      "Epoch 80: 1056.970183225526\n",
      "\n",
      "Epoch 90: 1046.1249517906413\n",
      "\n",
      " ==Beggining training for lr=0.0012==\n",
      "\n",
      "Epoch 0: 2798.7882986820878\n",
      "\n",
      "Epoch 10: 2558.050653090789\n",
      "\n",
      "Epoch 20: 2319.9042597657867\n",
      "\n",
      "Epoch 30: 2158.4893718488247\n",
      "\n",
      "Epoch 40: 2047.289945574034\n",
      "\n",
      "Epoch 50: 1969.657730367829\n",
      "\n",
      "Epoch 60: 1914.881513392996\n",
      "\n",
      "Epoch 70: 1875.9099566485024\n",
      "\n",
      "Epoch 80: 1848.0066623013645\n",
      "\n",
      "Epoch 90: 1827.9310916935403\n",
      "\n",
      " ==Beggining training for lr=0.002==\n",
      "\n",
      "Epoch 0: 9782.668905170824\n",
      "\n",
      "Epoch 10: 8794.69655057591\n",
      "\n",
      "Epoch 20: 8057.033727129832\n",
      "\n",
      "Epoch 30: 7588.161024927561\n",
      "\n",
      "Epoch 40: 7286.327502750215\n",
      "\n",
      "Epoch 50: 7090.301954767002\n",
      "\n",
      "Epoch 60: 6962.210527918434\n",
      "\n",
      "Epoch 70: 6878.1689040756655\n",
      "\n",
      "Epoch 80: 6822.86450138759\n",
      "\n",
      "Epoch 90: 6786.412504922776\n",
      "\n",
      "the best lr is 0.00075, with loss = 1038.3717856426679\n"
     ]
    }
   ],
   "source": [
    "all_lr = [0.0009,0.00087,0.00075,0.0012,0.002]\n",
    "best_loss = float('inf')\n",
    "best_lr = 0\n",
    "w = 0\n",
    "b = 0 \n",
    "for lr in all_lr:\n",
    "    path_log = './graphs/' + str(lr)\n",
    "    current_loss,current_w, current_b = linear_regression(path_log,lr)\n",
    "    if current_loss < best_loss:\n",
    "        best_loss, best_lr = current_loss, lr\n",
    "        w, b = current_w, current_b\n",
    "print(\"\\nthe best lr is {0}, with loss = {1}\".format(best_lr,best_loss/n_samples))"
   ]
  },
  {
   "cell_type": "markdown",
   "metadata": {},
   "source": [
    "## ploting the results"
   ]
  },
  {
   "cell_type": "code",
   "execution_count": 6,
   "metadata": {
    "collapsed": false
   },
   "outputs": [
    {
     "data": {
      "image/png": "[encoded data removed]",
      "text/plain": [
       "<matplotlib.figure.Figure at 0x7f44167437f0>"
      ]
     },
     "metadata": {},
     "output_type": "display_data"
    }
   ],
   "source": [
    "X, Y = data.T[0], data.T[1]\n",
    "plt.plot(X, Y, 'bo', label='Real data')\n",
    "plt.plot(X, X * w + b, 'r', label='Predicted data')\n",
    "plt.legend()\n",
    "plt.show()"
   ]
  },
  {
   "cell_type": "markdown",
   "metadata": {
    "collapsed": true,
    "deletable": true,
    "editable": true
   },
   "source": [
    "### Now we can use tensorboad to see witch one is the best hyper param. For doing so, we need to set loogdir to the parent folder"
   ]
  },
  {
   "cell_type": "code",
   "execution_count": 7,
   "metadata": {
    "collapsed": false,
    "deletable": true,
    "editable": true
   },
   "outputs": [
    {
     "name": "stdout",
     "output_type": "stream",
     "text": [
      "Starting TensorBoard b'41' on port 8008\n",
      "(You can navigate to http://127.0.1.1:8008)\n",
      "WARNING:tensorflow:Found more than one graph event per run, or there was a metagraph containing a graph_def, as well as one or more graph events.  Overwriting the graph with the newest event.\n",
      "WARNING:tensorflow:Found more than one metagraph event per run. Overwriting the metagraph with the newest event.\n",
      "WARNING:tensorflow:Found more than one graph event per run, or there was a metagraph containing a graph_def, as well as one or more graph events.  Overwriting the graph with the newest event.\n",
      "WARNING:tensorflow:Found more than one metagraph event per run. Overwriting the metagraph with the newest event.\n",
      "WARNING:tensorflow:Found more than one graph event per run, or there was a metagraph containing a graph_def, as well as one or more graph events.  Overwriting the graph with the newest event.\n",
      "WARNING:tensorflow:Found more than one metagraph event per run. Overwriting the metagraph with the newest event.\n",
      "WARNING:tensorflow:Found more than one graph event per run, or there was a metagraph containing a graph_def, as well as one or more graph events.  Overwriting the graph with the newest event.\n",
      "WARNING:tensorflow:Found more than one metagraph event per run. Overwriting the metagraph with the newest event.\n",
      "WARNING:tensorflow:Found more than one graph event per run, or there was a metagraph containing a graph_def, as well as one or more graph events.  Overwriting the graph with the newest event.\n",
      "WARNING:tensorflow:Found more than one metagraph event per run. Overwriting the metagraph with the newest event.\n",
      "^CTraceback (most recent call last):\n",
      "  File \"/usr/local/bin/tensorboard\", line 11, in <module>\n",
      "    sys.exit(main())\n",
      "  File \"/usr/local/lib/python3.5/dist-packages/tensorflow/tensorboard/tensorboard.py\", line 151, in main\n",
      "    tb_server.serve_forever()\n",
      "  File \"/usr/lib/python3.5/socketserver.py\", line 232, in serve_forever\n",
      "    ready = selector.select(poll_interval)\n",
      "  File \"/usr/lib/python3.5/selectors.py\", line 376, in select\n",
      "    fd_event_list = self._poll.poll(timeout)\n",
      "KeyboardInterrupt\n",
      "\n"
     ]
    }
   ],
   "source": [
    "# !tensorboard --logdir=./graphs --port=8008"
   ]
  },
  {
   "cell_type": "markdown",
   "metadata": {},
   "source": [
    "## Huber loss\n",
    "\n",
    "Robust to outliers\n",
    "\n",
    "Intuition: if the difference between the predicted value and the real value is small, square it If it’s large, take its absolute value\n",
    "\n",
    "   \n",
    "- $L_{\\delta}(y,f(x)) =  \\frac{1}{2}(y-f(x))^{2}$ if $|y-f(x)|\\leq \\delta$\n",
    "\n",
    "- $L_{\\delta}(y,f(x)) =  \\delta|y-f(x)| -\\frac{1}{2}\\delta^{2}$ otherwise \n"
   ]
  },
  {
   "cell_type": "code",
   "execution_count": 8,
   "metadata": {
    "collapsed": false
   },
   "outputs": [],
   "source": [
    "#implementing Huber loss in tf\n",
    "def huber_loss(labels, predictions, delta=1.0):\n",
    "    residual = tf.abs(predictions - labels)\n",
    "    condition = tf.less(residual, delta)\n",
    "    small_res = 0.5 * tf.square(residual)\n",
    "    large_res = delta * residual - 0.5 * tf.square(delta)\n",
    "    return tf.where(condition, small_res, large_res)"
   ]
  },
  {
   "cell_type": "markdown",
   "metadata": {},
   "source": [
    "**Now repeating the training with Huber loss**"
   ]
  },
  {
   "cell_type": "code",
   "execution_count": 9,
   "metadata": {
    "collapsed": false
   },
   "outputs": [
    {
     "name": "stdout",
     "output_type": "stream",
     "text": [
      "\n",
      " ==Beggining training for lr=0.0009==\n",
      "\n",
      "Epoch 0: 30.5058015641712\n",
      "\n",
      "Epoch 10: 16.53957552613602\n",
      "\n",
      "Epoch 20: 16.472495969917095\n",
      "\n",
      "Epoch 30: 16.40623512354103\n",
      "\n",
      "Epoch 40: 16.341193102898874\n",
      "\n",
      "Epoch 50: 16.27731665216076\n",
      "\n",
      "Epoch 60: 16.213774049571448\n",
      "\n",
      "Epoch 70: 16.15062386205786\n",
      "\n",
      "Epoch 80: 16.08786667798094\n",
      "\n",
      "Epoch 90: 16.025500217763085\n",
      "\n",
      " ==Beggining training for lr=0.00087==\n",
      "\n",
      "Epoch 0: 30.588147572108678\n",
      "\n",
      "Epoch 10: 16.53861704273593\n",
      "\n",
      "Epoch 20: 16.473600614283765\n",
      "\n",
      "Epoch 30: 16.409472711428645\n",
      "\n",
      "Epoch 40: 16.34647723934835\n",
      "\n",
      "Epoch 50: 16.284601737523364\n",
      "\n",
      "Epoch 60: 16.223123986124328\n",
      "\n",
      "Epoch 70: 16.161989735882905\n",
      "\n",
      "Epoch 80: 16.10121916447367\n",
      "\n",
      "Epoch 90: 16.04081069217119\n",
      "\n",
      " ==Beggining training for lr=0.00075==\n",
      "\n",
      "Epoch 0: 30.917532228288195\n",
      "\n",
      "Epoch 10: 16.610250842896114\n",
      "\n",
      "Epoch 20: 16.47840994507784\n",
      "\n",
      "Epoch 30: 16.4228663751412\n",
      "\n",
      "Epoch 40: 16.368149911408267\n",
      "\n",
      "Epoch 50: 16.31424934665362\n",
      "\n",
      "Epoch 60: 16.261060962231742\n",
      "\n",
      "Epoch 70: 16.208056159289775\n",
      "\n",
      "Epoch 80: 16.155315083091235\n",
      "\n",
      "Epoch 90: 16.102832949631626\n",
      "\n",
      " ==Beggining training for lr=0.0012==\n",
      "\n",
      "Epoch 0: 29.682338124229794\n",
      "\n",
      "Epoch 10: 16.548284386417695\n",
      "\n",
      "Epoch 20: 16.459121220168612\n",
      "\n",
      "Epoch 30: 16.371940078147286\n",
      "\n",
      "Epoch 40: 16.28692226978906\n",
      "\n",
      "Epoch 50: 16.202607181546878\n",
      "\n",
      "Epoch 60: 16.119070987312064\n",
      "\n",
      "Epoch 70: 16.036378647339355\n",
      "\n",
      "Epoch 80: 15.953119378758682\n",
      "\n",
      "Epoch 90: 15.86987965326712\n",
      "\n",
      " ==Beggining training for lr=0.002==\n",
      "\n",
      "Epoch 0: 27.486436344328382\n",
      "\n",
      "Epoch 10: 16.50884522411174\n",
      "\n",
      "Epoch 20: 16.343268686184835\n",
      "\n",
      "Epoch 30: 16.194900147680613\n",
      "\n",
      "Epoch 40: 16.05619309103072\n",
      "\n",
      "Epoch 50: 15.924801669482674\n",
      "\n",
      "Epoch 60: 15.802057752297038\n",
      "\n",
      "Epoch 70: 15.682360045772622\n",
      "\n",
      "Epoch 80: 15.563051126653416\n",
      "\n",
      "Epoch 90: 15.426781277139005\n",
      "\n",
      "the best lr is 0.002, with loss = 15.268346142910776\n"
     ]
    }
   ],
   "source": [
    "all_lr = [0.0009,0.00087,0.00075,0.0012,0.002]\n",
    "best_loss = float('inf')\n",
    "best_lr = 0\n",
    "w = 0\n",
    "b = 0 \n",
    "for lr in all_lr:\n",
    "    path_log = './graphs/' + str(lr)\n",
    "    current_loss,current_w, current_b = linear_regression(path_log,lr,huber_loss)\n",
    "    if current_loss < best_loss:\n",
    "        best_loss, best_lr = current_loss, lr\n",
    "        w, b = current_w, current_b\n",
    "print(\"\\nthe best lr is {0}, with loss = {1}\".format(best_lr,best_loss/n_samples))"
   ]
  },
  {
   "cell_type": "code",
   "execution_count": 10,
   "metadata": {
    "collapsed": false
   },
   "outputs": [
    {
     "data": {
      "image/png": "[encoded data removed]",
      "text/plain": [
       "<matplotlib.figure.Figure at 0x7f4415f31c18>"
      ]
     },
     "metadata": {},
     "output_type": "display_data"
    }
   ],
   "source": [
    "X, Y = data.T[0], data.T[1]\n",
    "plt.plot(X, Y, 'bo', label='Real data')\n",
    "plt.plot(X, X * w + b, 'r', label='Predicted data')\n",
    "plt.legend()\n",
    "plt.show()"
   ]
  },
  {
   "cell_type": "markdown",
   "metadata": {},
   "source": [
    "# Logistic Regression"
   ]
  },
  {
   "cell_type": "code",
   "execution_count": 12,
   "metadata": {
    "collapsed": false
   },
   "outputs": [
    {
     "name": "stdout",
     "output_type": "stream",
     "text": [
      "Successfully downloaded train-images-idx3-ubyte.gz 9912422 bytes.\n",
      "Extracting ./data/mnist/train-images-idx3-ubyte.gz\n",
      "Successfully downloaded train-labels-idx1-ubyte.gz 28881 bytes.\n",
      "Extracting ./data/mnist/train-labels-idx1-ubyte.gz\n",
      "Successfully downloaded t10k-images-idx3-ubyte.gz 1648877 bytes.\n",
      "Extracting ./data/mnist/t10k-images-idx3-ubyte.gz\n",
      "Successfully downloaded t10k-labels-idx1-ubyte.gz 4542 bytes.\n",
      "Extracting ./data/mnist/t10k-labels-idx1-ubyte.gz\n"
     ]
    }
   ],
   "source": [
    "# Step 1: Read in data\n",
    "# using TF Learn's built in function to load MNIST data to the folder data/mnist\n",
    "mnist = input_data.read_data_sets('./data/mnist', one_hot=True) "
   ]
  },
  {
   "cell_type": "code",
   "execution_count": 19,
   "metadata": {
    "collapsed": false
   },
   "outputs": [],
   "source": [
    "num_classes = 10\n",
    "\n",
    "def logistic_regression(lr=0.01,batch_size=128,n_epochs=10,log_path=None):\n",
    "\n",
    "    graph = tf.Graph()\n",
    "    with graph.as_default():\n",
    "        # Step 2: create placeholders for features and labels\n",
    "        # each image in the MNIST data is of shape 28*28 = 784\n",
    "        # therefore, each image is represented with a 1x784 tensor\n",
    "        # there are 10 classes for each image, corresponding to digits 0 - 9.\n",
    "\n",
    "        X = tf.placeholder(tf.float32,shape=(batch_size ,784), name=\"X\")\n",
    "        Y = tf.placeholder(tf.float32, shape=(batch_size, num_classes), name=\"Y\")\n",
    "\n",
    "        # Step 3: create weights and bias\n",
    "        # weights and biases are initialized to 0\n",
    "        # shape of w depends on the dimension of X and Y so that Y = X * w + b\n",
    "        # shape of b depends on Y\n",
    "\n",
    "        with tf.name_scope(\"Weights\"):\n",
    "            w_shape = (784,num_classes)\n",
    "            b_shape = (num_classes)\n",
    "            w_init = tf.zeros(w_shape)\n",
    "            b_init = tf.zeros(b_shape)\n",
    "            weight = tf.get_variable(\"w\",dtype=tf.float32,initializer=w_init)\n",
    "            bias = tf.get_variable(\"b\",dtype=tf.float32,initializer=b_init)\n",
    "            tf.summary.histogram('weights_summ',weight)\n",
    "            tf.summary.histogram('bias_summ',bias)\n",
    "\n",
    "\n",
    "        # Step 4: build model\n",
    "        # the model that returns the logits.\n",
    "        # this logits will be later passed through softmax layer\n",
    "        # to get the probability distribution of possible label of the image\n",
    "        # DO NOT DO SOFTMAX HERE\n",
    "\n",
    "        with tf.name_scope(\"Linear_layer\"):\n",
    "            logits = tf.add(tf.matmul(X,weight),bias,name=\"logits\")\n",
    "\n",
    "        # Step 5: define loss function\n",
    "        # use cross entropy loss of the real labels with the softmax of logits\n",
    "        # use the method:\n",
    "        # tf.nn.softmax_cross_entropy_with_logits(logits, Y)\n",
    "        # then use tf.reduce_mean to get the mean loss of the batch\n",
    "\n",
    "        with tf.name_scope(\"loss\"):\n",
    "            loss = tf.reduce_mean(tf.nn.softmax_cross_entropy_with_logits(logits=logits,labels=Y))\n",
    "            tf.summary.scalar(\"loss\",loss)\n",
    "\n",
    "\n",
    "        # Step 6: define training op\n",
    "        # using gradient descent to minimize loss\n",
    "\n",
    "        with tf.name_scope(\"train\"):\n",
    "            optimizer = tf.train.GradientDescentOptimizer(learning_rate=lr).minimize(loss)\n",
    "            \n",
    "    if log_path is None:\n",
    "        log_path = newlogname()\n",
    "        print(\"\\n&&&&&log_path={}&&&&&\".format(log_path))\n",
    "    step = 0\n",
    "    with tf.Session(graph=graph) as sess:\n",
    "        print(\"\\n==Beggining training for lr={0}, batch_size={1} and n_epochs={2}==\".format(lr,batch_size,n_epochs))\n",
    "        summary_writer = tf.summary.FileWriter(log_path,sess.graph)\n",
    "        all_summaries = tf.summary.merge_all() \n",
    "        start_time = time.time()\n",
    "        sess.run(tf.global_variables_initializer())\t\n",
    "        n_batches = int(mnist.train.num_examples/batch_size)\n",
    "        for i in range(n_epochs): # train the model n_epochs times\n",
    "            total_loss = 0\n",
    "            for _ in range(n_batches):\n",
    "                step += 1\n",
    "                X_batch, Y_batch = mnist.train.next_batch(batch_size)\n",
    "                feed_dict = {X: X_batch, Y: Y_batch}\n",
    "                _,loss_batch,summary = sess.run([optimizer,loss,all_summaries], feed_dict=feed_dict)\n",
    "                \n",
    "                #writing the log\n",
    "                summary_writer.add_summary(summary,step)\n",
    "                summary_writer.flush()\n",
    "                \n",
    "                total_loss += loss_batch\n",
    "            print('Average loss epoch {0}: {1}'.format(i, total_loss/n_batches))\n",
    "\n",
    "        print('Total time: {0} seconds'.format(time.time() - start_time))\n",
    "\n",
    "        print('Optimization Finished!') # should be around 0.35 after 25 epochs\n",
    "\n",
    "        # test the model\n",
    "        n_batches = int(mnist.test.num_examples/batch_size)\n",
    "        total_correct_preds = 0\n",
    "        for i in range(n_batches):\n",
    "            X_batch, Y_batch = mnist.test.next_batch(batch_size)\n",
    "            _, loss_batch, logits_batch = sess.run([optimizer, loss, logits], feed_dict={X: X_batch, Y:Y_batch}) \n",
    "            preds = tf.nn.softmax(logits_batch)\n",
    "            correct_preds = tf.equal(tf.argmax(preds, 1), tf.argmax(Y_batch, 1))\n",
    "            accuracy = tf.reduce_sum(tf.cast(correct_preds, tf.float32)) # need numpy.count_nonzero(boolarr) :(\n",
    "        total_correct_preds += sess.run(accuracy)\n",
    "        print('Accuracy {0}/{1} ={2}'.format(total_correct_preds,mnist.test.num_examples,total_correct_preds/mnist.test.num_examples))"
   ]
  },
  {
   "cell_type": "code",
   "execution_count": 20,
   "metadata": {
    "collapsed": false
   },
   "outputs": [
    {
     "name": "stdout",
     "output_type": "stream",
     "text": [
      "\n",
      "&&&&&log_path=./graphs/04-03-2017_11-35-21&&&&&\n",
      "\n",
      "==Beggining training for lr=0.01, batch_size=128 and n_epochs=10==\n",
      "Average loss epoch 0: 1.2883360127469043\n",
      "Average loss epoch 1: 0.7324641469197396\n",
      "Average loss epoch 2: 0.6004175959211407\n",
      "Average loss epoch 3: 0.5366841424039471\n",
      "Average loss epoch 4: 0.49800996784563667\n",
      "Average loss epoch 5: 0.47048981692685393\n",
      "Average loss epoch 6: 0.45172557283392595\n",
      "Average loss epoch 7: 0.43562278644744057\n",
      "Average loss epoch 8: 0.4233920334866553\n",
      "Average loss epoch 9: 0.4133975282485113\n",
      "Total time: 6.49752402305603 seconds\n",
      "Optimization Finished!\n",
      "Accuracy 118.0/10000 =0.0118\n"
     ]
    }
   ],
   "source": [
    "logistic_regression()"
   ]
  },
  {
   "cell_type": "code",
   "execution_count": 21,
   "metadata": {
    "collapsed": false
   },
   "outputs": [
    {
     "name": "stdout",
     "output_type": "stream",
     "text": [
      "\n",
      "&&&&&log_path=./graphs/04-03-2017_11-35-46&&&&&\n",
      "\n",
      "==Beggining training for lr=0.01, batch_size=128 and n_epochs=25==\n",
      "Average loss epoch 0: 1.2883124069456175\n",
      "Average loss epoch 1: 0.7325180994047151\n",
      "Average loss epoch 2: 0.600675317443612\n",
      "Average loss epoch 3: 0.5365682590257871\n",
      "Average loss epoch 4: 0.49814838956008145\n",
      "Average loss epoch 5: 0.4710581656936165\n",
      "Average loss epoch 6: 0.4510998490390244\n",
      "Average loss epoch 7: 0.43645669669260234\n",
      "Average loss epoch 8: 0.4230766779198235\n",
      "Average loss epoch 9: 0.4134678101831383\n",
      "Average loss epoch 10: 0.4043888431606871\n",
      "Average loss epoch 11: 0.39677910058648436\n",
      "Average loss epoch 12: 0.3906528462410529\n",
      "Average loss epoch 13: 0.38398177678629514\n",
      "Average loss epoch 14: 0.3793847368800001\n",
      "Average loss epoch 15: 0.3745516987391563\n",
      "Average loss epoch 16: 0.3705269192412739\n",
      "Average loss epoch 17: 0.36667435142126953\n",
      "Average loss epoch 18: 0.36289425618026083\n",
      "Average loss epoch 19: 0.3598469434987693\n",
      "Average loss epoch 20: 0.3562919191477738\n",
      "Average loss epoch 21: 0.35388709816621455\n",
      "Average loss epoch 22: 0.35175494446760014\n",
      "Average loss epoch 23: 0.3484184599561847\n",
      "Average loss epoch 24: 0.34624665426763346\n",
      "Total time: 15.926987171173096 seconds\n",
      "Optimization Finished!\n",
      "Accuracy 123.0/10000 =0.0123\n"
     ]
    }
   ],
   "source": [
    "logistic_regression(n_epochs=25)"
   ]
  },
  {
   "cell_type": "code",
   "execution_count": 22,
   "metadata": {
    "collapsed": false
   },
   "outputs": [
    {
     "name": "stdout",
     "output_type": "stream",
     "text": [
      "Starting TensorBoard b'41' on port 8008\n",
      "(You can navigate to http://127.0.1.1:8008)\n",
      "^CTraceback (most recent call last):\n",
      "  File \"/usr/local/bin/tensorboard\", line 11, in <module>\n",
      "    sys.exit(main())\n",
      "  File \"/usr/local/lib/python3.5/dist-packages/tensorflow/tensorboard/tensorboard.py\", line 151, in main\n",
      "    tb_server.serve_forever()\n",
      "  File \"/usr/lib/python3.5/socketserver.py\", line 232, in serve_forever\n",
      "    ready = selector.select(poll_interval)\n",
      "  File \"/usr/lib/python3.5/selectors.py\", line 376, in select\n",
      "    fd_event_list = self._poll.poll(timeout)\n",
      "KeyboardInterrupt\n",
      "\n"
     ]
    }
   ],
   "source": [
    "!tensorboard --logdir=./graphs/04-03-2017_11-35-46 --port=8008"
   ]
  },
  {
   "cell_type": "code",
   "execution_count": null,
   "metadata": {
    "collapsed": true
   },
   "outputs": [],
   "source": []
  }
 ],
 "metadata": {
  "kernelspec": {
   "display_name": "Python 3",
   "language": "python",
   "name": "python3"
  },
  "language_info": {
   "codemirror_mode": {
    "name": "ipython",
    "version": 3
   },
   "file_extension": ".py",
   "mimetype": "text/x-python",
   "name": "python",
   "nbconvert_exporter": "python",
   "pygments_lexer": "ipython3",
   "version": "3.5.2"
  }
 },
 "nbformat": 4,
 "nbformat_minor": 2
}
