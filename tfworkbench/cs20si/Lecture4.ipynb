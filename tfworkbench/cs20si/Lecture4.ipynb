{
 "cells": [
  {
   "cell_type": "markdown",
   "metadata": {},
   "source": [
    "# Lecture 4: Structure your model\n",
    "\n",
    "###  Phase 1: Assemble graph\n",
    "1. Define placeholders for input and output\n",
    "2. Define the weights\n",
    "3. Define the inference model\n",
    "4. Define loss function\n",
    "5. Define optimizer"
   ]
  },
  {
   "cell_type": "code",
   "execution_count": null,
   "metadata": {
    "collapsed": true
   },
   "outputs": [],
   "source": []
  },
  {
   "cell_type": "code",
   "execution_count": null,
   "metadata": {
    "collapsed": true
   },
   "outputs": [],
   "source": []
  },
  {
   "cell_type": "markdown",
   "metadata": {},
   "source": [
    "# Word2vec example: skipgram\n",
    "\n",
    "## with embeddings visualization"
   ]
  },
  {
   "cell_type": "code",
   "execution_count": 36,
   "metadata": {
    "collapsed": false
   },
   "outputs": [],
   "source": [
    "from __future__ import absolute_import\n",
    "from __future__ import division\n",
    "from __future__ import print_function\n",
    "\n",
    "import numpy as np\n",
    "import tensorflow as tf\n",
    "from tensorflow.contrib.tensorboard.plugins import projector\n",
    "from util import newlogname\n",
    "from process_data import process_data\n",
    "import sys\n",
    "import os\n",
    "from util import newlogname\n",
    "\n",
    "class Config(object):\n",
    "    \"\"\"Holds model hyperparams and data information.\n",
    "    The config class is used to store various hyperparameters and dataset\n",
    "    information parameters. Model objects are passed a Config() object at\n",
    "    instantiation.\n",
    "    \"\"\"\n",
    "    def __init__(self,\n",
    "                 vocab_size=50000,\n",
    "                 batch_size=128,\n",
    "                 embed_size=128,\n",
    "                 skip_window=1,\n",
    "                 num_sampled=64,\n",
    "                 lr=0.00217346380124,\n",
    "                 num_train_steps=100000,\n",
    "                 skip_step=2000,\n",
    "                 ):\n",
    "        self.vocab_size = vocab_size\n",
    "        self.batch_size = batch_size\n",
    "        self.embed_size = embed_size\n",
    "        self.skip_window = skip_window\n",
    "        self.num_sampled = num_sampled\n",
    "        self.lr = lr\n",
    "        self.num_train_steps = num_train_steps\n",
    "        self.skip_step = skip_step\n",
    "        self.log_path = newlogname()\n",
    "\n",
    "\n",
    "class SkipGramModel(object):\n",
    "    \"\"\" Build the graph for word2vec model \"\"\"\n",
    "    def __init__(self, config):\n",
    "        self.config = config\n",
    "        self.build_graph()\n",
    "\n",
    "    def _create_placeholders(self):\n",
    "        with tf.name_scope(\"data\"):\n",
    "            self.center_words = tf.placeholder(tf.int32,\n",
    "                                               shape=[self.config.batch_size],\n",
    "                                               name='center_words')\n",
    "            self.target_words = tf.placeholder(tf.int32,\n",
    "                                               shape=[self.config.batch_size,\n",
    "                                                      1],\n",
    "                                               name='target_words')\n",
    "\n",
    "    def _create_embedding(self):\n",
    "        with tf.name_scope(\"embed\"):\n",
    "            emshape = (self.config.vocab_size, self.config.embed_size)\n",
    "            eminit = tf.random_uniform(shape=emshape, minval=-1, maxval=1)\n",
    "            self.embed_matrix = tf.get_variable(\"embed_matrix\",\n",
    "                                                dtype=tf.float32,\n",
    "                                                initializer=eminit)\n",
    "\n",
    "    def _create_loss(self):\n",
    "        with tf.name_scope(\"nce\"):\n",
    "            Wshape = (self.config.vocab_size, self.config.embed_size)\n",
    "            bshape = (self.config.vocab_size)\n",
    "            std = 1.0/(self.config.embed_size ** 0.5)\n",
    "            Winit = tf.truncated_normal(shape=Wshape,\n",
    "                                        stddev=std)\n",
    "            binit = tf.zeros(bshape)\n",
    "            self.W = tf.get_variable(\"nce_weight\", dtype=tf.float32, initializer=Winit)\n",
    "            self.b = tf.get_variable(\"nce_bias\", dtype=tf.float32, initializer=binit)\n",
    "\n",
    "            with tf.name_scope(\"loss\"):\n",
    "                embed = tf.nn.embedding_lookup(self.embed_matrix,\n",
    "                                           self.center_words,\n",
    "                                           name='embed')\n",
    "                # define loss function to be NCE loss function\n",
    "                self.loss = tf.reduce_mean(tf.nn.nce_loss(weights=self.W,\n",
    "                                                          biases=self.b,\n",
    "                                                          labels=self.target_words,\n",
    "                                                          inputs=embed,\n",
    "                                                          num_sampled=self.config.num_sampled,\n",
    "                                                          num_classes=self.config.vocab_size), name='loss')\n",
    "\n",
    "    def _create_optimizer(self):\n",
    "        with tf.name_scope(\"train\"):\n",
    "            opt = tf.train.GradientDescentOptimizer(self.config.lr)\n",
    "            self.optimizer = opt.minimize(self.loss,\n",
    "                                          global_step=self.global_step)\n",
    "\n",
    "    def _create_summaries(self):\n",
    "        with tf.name_scope(\"summaries\"):\n",
    "            tf.summary.scalar(\"loss\", self.loss)\n",
    "            tf.summary.histogram(\"histogram_nce_weight\",self.W)\n",
    "            tf.summary.histogram(\"histogram_nce_bias\",self.b)\n",
    "            self.summary_op = tf.summary.merge_all()\n",
    "\n",
    "    def build_graph(self):\n",
    "        \"\"\" Build the graph for our model \"\"\"\n",
    "        self.graph = tf.Graph()\n",
    "        with self.graph.as_default():\n",
    "            self.global_step = tf.Variable(0,\n",
    "                               dtype=tf.int32,\n",
    "                               trainable=False,\n",
    "                               name='global_step')\n",
    "            self.saver = tf.train.Saver()\n",
    "            save_dir = 'checkpoints/'\n",
    "            if not os.path.exists(save_dir):\n",
    "                os.makedirs(save_dir)\n",
    "            self.save_path = os.path.join(save_dir, 'best_validation')\n",
    "            \n",
    "            \n",
    "            self._create_placeholders()\n",
    "            self._create_embedding()\n",
    "            self._create_loss()\n",
    "            self._create_optimizer()\n",
    "            self._create_summaries()\n",
    "\n",
    "\n",
    "def train_model(model, batch_gen,log_path=None,visualization=False):\n",
    "\n",
    "    initial_step = 0\n",
    "    skip_step = model.config.skip_step\n",
    "    if log_path is None:\n",
    "        log_path = newlogname()\n",
    "        print(\"\\n&&&&&logdir={}&&&&&\".format(log_path))\n",
    "    with tf.Session(graph=model.graph) as sess:\n",
    "        print(\"\\n ==Beggining training==\")\n",
    "        summary_writer = tf.summary.FileWriter(log_path,sess.graph)\n",
    "        tf.global_variables_initializer().run()\n",
    "        ckpt = tf.train.get_checkpoint_state(os.path.dirname('checkpoints/checkpoint'))\n",
    "        if ckpt and ckpt.model_checkpoint_path:\n",
    "            model.saver.restore(sess, ckpt.model_checkpoint_path)\n",
    "\n",
    "        total_loss = 0\n",
    "        initial_step = model.global_step.eval()\n",
    "        for index in range(model.config.num_train_steps):\n",
    "            centers, targets = batch_gen.__next__()\n",
    "            feed_dict = {model.center_words: centers, model.target_words: targets}\n",
    "            loss_batch, _, summary = sess.run([model.loss, model.optimizer, model.summary_op],\n",
    "                                              feed_dict=feed_dict)\n",
    "            summary_writer.add_summary(summary, global_step=index)\n",
    "            summary_writer.flush()\n",
    "            total_loss += loss_batch\n",
    "            sys.stdout.write('\\r{} / {} : loss = {}'.format(index,\n",
    "                                                            model.config.num_train_steps,\n",
    "                                                            total_loss / max(index, 1)))\n",
    "            sys.stdout.flush()\n",
    "            if (index + 1) % skip_step == 0:\n",
    "                print('\\nAverage loss at step {}: {:5.1f}'.format(index, total_loss / skip_step))\n",
    "                total_loss = 0.0\n",
    "                model.saver.save(sess=sess, save_path=model.save_path)\n",
    "                \n",
    "        if visualization:        \n",
    "            final_embed_matrix = sess.run(model.embed_matrix)\n",
    "            embedding_var = tf.Variable(final_embed_matrix[:1000], name='embedding')\n",
    "            sess.run(embedding_var.initializer)\n",
    "            config = projector.ProjectorConfig()\n",
    "            new_summary_writer = tf.summary.FileWriter('processed')\n",
    "            embedding = config.embeddings.add()\n",
    "            embedding.tensor_name = embedding_var.name\n",
    "            #link this tensor to its metadata file, in this case the first 500 words of vocab\n",
    "            embedding.metadata_path = './processed/vocab_1000.tsv'\n",
    "            # saves a configuration file that TensorBoard will read during startup.\n",
    "            projector.visualize_embeddings(new_summary_writer, config)\n",
    "            saver_embed = tf.train.Saver([embedding_var])\n",
    "            saver_embed.save(sess, './processed/model3.ckpt', 1)"
   ]
  },
  {
   "cell_type": "code",
   "execution_count": 37,
   "metadata": {
    "collapsed": false
   },
   "outputs": [
    {
     "name": "stdout",
     "output_type": "stream",
     "text": [
      "Dataset ready\n",
      "\n",
      "&&&&&logdir=./graphs/05-03-2017_22-05-35&&&&&\n",
      "\n",
      " ==Beggining training==\n",
      "199 / 200 : loss = 280.7931454912502"
     ]
    }
   ],
   "source": [
    "c = Config(num_train_steps)\n",
    "batch_gen = process_data(c.vocab_size,c.batch_size,c.skip_window)\n",
    "m = SkipGramModel(c)\n",
    "train_model(m,batch_gen,visualization=True)"
   ]
  },
  {
   "cell_type": "code",
   "execution_count": 39,
   "metadata": {
    "collapsed": false
   },
   "outputs": [
    {
     "name": "stdout",
     "output_type": "stream",
     "text": [
      "Starting TensorBoard b'41' on port 8008\n",
      "(You can navigate to http://127.0.1.1:8008)\n",
      "^CTraceback (most recent call last):\n",
      "  File \"/usr/local/bin/tensorboard\", line 11, in <module>\n",
      "    sys.exit(main())\n",
      "  File \"/usr/local/lib/python3.5/dist-packages/tensorflow/tensorboard/tensorboard.py\", line 151, in main\n",
      "    tb_server.serve_forever()\n",
      "  File \"/usr/lib/python3.5/socketserver.py\", line 232, in serve_forever\n",
      "    ready = selector.select(poll_interval)\n",
      "  File \"/usr/lib/python3.5/selectors.py\", line 376, in select\n",
      "    fd_event_list = self._poll.poll(timeout)\n",
      "KeyboardInterrupt\n",
      "\n"
     ]
    }
   ],
   "source": [
    "#!tensorboard --logdir=./graphs/05-03-2017_22-05-35 --port=8008"
   ]
  },
  {
   "cell_type": "code",
   "execution_count": 40,
   "metadata": {
    "collapsed": false
   },
   "outputs": [
    {
     "name": "stdout",
     "output_type": "stream",
     "text": [
      "Starting TensorBoard b'41' on port 8008\n",
      "(You can navigate to http://127.0.1.1:8008)\n",
      "^CTraceback (most recent call last):\n",
      "  File \"/usr/local/bin/tensorboard\", line 11, in <module>\n",
      "    sys.exit(main())\n",
      "  File \"/usr/local/lib/python3.5/dist-packages/tensorflow/tensorboard/tensorboard.py\", line 151, in main\n",
      "    tb_server.serve_forever()\n",
      "  File \"/usr/lib/python3.5/socketserver.py\", line 232, in serve_forever\n",
      "    ready = selector.select(poll_interval)\n",
      "  File \"/usr/lib/python3.5/selectors.py\", line 376, in select\n",
      "    fd_event_list = self._poll.poll(timeout)\n",
      "KeyboardInterrupt\n",
      "\n"
     ]
    }
   ],
   "source": [
    "#!tensorboard --logdir=./processed --port=8008\n"
   ]
  },
  {
   "cell_type": "code",
   "execution_count": null,
   "metadata": {
    "collapsed": true
   },
   "outputs": [],
   "source": []
  }
 ],
 "metadata": {
  "kernelspec": {
   "display_name": "Python 3",
   "language": "python",
   "name": "python3"
  },
  "language_info": {
   "codemirror_mode": {
    "name": "ipython",
    "version": 3
   },
   "file_extension": ".py",
   "mimetype": "text/x-python",
   "name": "python",
   "nbconvert_exporter": "python",
   "pygments_lexer": "ipython3",
   "version": "3.5.2"
  }
 },
 "nbformat": 4,
 "nbformat_minor": 1
}
