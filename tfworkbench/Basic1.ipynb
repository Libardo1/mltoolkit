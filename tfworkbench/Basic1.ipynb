{
 "cells": [
  {
   "cell_type": "markdown",
   "metadata": {},
   "source": [
    "# A basic operations and tensorboard visualization"
   ]
  },
  {
   "cell_type": "markdown",
   "metadata": {},
   "source": [
    "## First let us creat an abstract class for all the examples\n"
   ]
  },
  {
   "cell_type": "code",
   "execution_count": 1,
   "metadata": {
    "collapsed": false
   },
   "outputs": [],
   "source": [
    "import tensorflow as tf\n",
    "import os\n",
    "import time\n",
    "\n",
    "\n",
    "def newlogname():\n",
    "    log_basedir = './graphs'\n",
    "    run_label = time.strftime('%d-%m-%Y_%H-%M-%S')  # e.g. 12-11-2016_18-20-45\n",
    "    return os.path.join(log_basedir, run_label)\n",
    "\n",
    "\n",
    "class Example(object):\n",
    "    \"\"\"Abstract class for create examples. self.log_path stores\n",
    "    the directory for tensorboar visualization \"\"\"\n",
    "    def __init__(self):\n",
    "        self.log_path = newlogname()\n",
    "        self.graphsession()\n",
    "\n",
    "    def graphsession(self):\n",
    "        \"\"\"method to implement all the content of the example\n",
    "        \"\"\"\n",
    "        raise NotImplementedError(\"Each Model must re-implement this method.\")\n",
    "\n",
    "\n"
   ]
  },
  {
   "cell_type": "markdown",
   "metadata": {},
   "source": [
    "## The first example perform a basic addiction between two scalars "
   ]
  },
  {
   "cell_type": "code",
   "execution_count": 2,
   "metadata": {
    "collapsed": false
   },
   "outputs": [
    {
     "name": "stdout",
     "output_type": "stream",
     "text": [
      "3444\n"
     ]
    }
   ],
   "source": [
    "class Basic1(Example):\n",
    "\n",
    "    def graphsession(self):\n",
    "        graph = tf.Graph() \n",
    "        with graph.as_default():\n",
    "            a = tf.constant(222, name=\"A\")\n",
    "            b = tf.constant(3222, name=\"B\")\n",
    "            x = tf.add(a, b, name=\"sum\")\n",
    "        with tf.Session(graph=graph) as sess:\n",
    "            writer = tf.summary.FileWriter(self.log_path, sess.graph)\n",
    "            print(sess.run(x))\n",
    "            \n",
    "ex1 = Basic1()\n"
   ]
  },
  {
   "cell_type": "code",
   "execution_count": 3,
   "metadata": {
    "collapsed": false
   },
   "outputs": [
    {
     "data": {
      "text/plain": [
       "'./graphs/01-03-2017_22-03-12'"
      ]
     },
     "execution_count": 3,
     "metadata": {},
     "output_type": "execute_result"
    }
   ],
   "source": [
    "ex1.log_path"
   ]
  },
  {
   "cell_type": "markdown",
   "metadata": {},
   "source": [
    "### Running the following commmad we now can see the graph at http://127.0.1.1:8008\n"
   ]
  },
  {
   "cell_type": "code",
   "execution_count": 4,
   "metadata": {
    "collapsed": false
   },
   "outputs": [],
   "source": [
    "# !tensorboard --logdir=./graphs/01-03-2017_20-33-38 --port=8008\n",
    "#os.system(\"tensorboard --logdir=\" + ex1.log_path)"
   ]
  },
  {
   "cell_type": "markdown",
   "metadata": {},
   "source": [
    "## Addiction and multiplication with tensors "
   ]
  },
  {
   "cell_type": "code",
   "execution_count": 5,
   "metadata": {
    "collapsed": false
   },
   "outputs": [
    {
     "name": "stdout",
     "output_type": "stream",
     "text": [
      "[[2 3]\n",
      " [2 3]]\n",
      "\n",
      " [[0 2]\n",
      " [0 2]]\n"
     ]
    }
   ],
   "source": [
    "class Basic2(Example):\n",
    "\n",
    "    def graphsession(self):\n",
    "        graph = tf.Graph() \n",
    "        with graph.as_default():\n",
    "            a = tf.constant([2, 2], name=\"a\")\n",
    "            b = tf.constant([[0, 1],[0, 1]], name=\"b\")\n",
    "            x = tf.add(a, b, name=\"add\")\n",
    "            y = tf.multiply(a, b, name=\"mul\")\n",
    "        with tf.Session(graph=graph) as sess:\n",
    "            writer = tf.summary.FileWriter(self.log_path, sess.graph)\n",
    "            x, y = sess.run([x, y])\n",
    "            print(x)\n",
    "            print(\"\\n\",y)\n",
    "            \n",
    "            \n",
    "ex2 = Basic2()"
   ]
  },
  {
   "cell_type": "code",
   "execution_count": 6,
   "metadata": {
    "collapsed": false
   },
   "outputs": [
    {
     "data": {
      "text/plain": [
       "'./graphs/01-03-2017_22-03-13'"
      ]
     },
     "execution_count": 6,
     "metadata": {},
     "output_type": "execute_result"
    }
   ],
   "source": [
    "ex2.log_path"
   ]
  },
  {
   "cell_type": "code",
   "execution_count": 7,
   "metadata": {
    "collapsed": false
   },
   "outputs": [],
   "source": [
    "# !tensorboard --logdir=./graphs/01-03-2017_20-37-24 --port=8008\n",
    "#os.system(\"tensorboard --logdir=\" + ex1.log_path)"
   ]
  },
  {
   "cell_type": "markdown",
   "metadata": {},
   "source": [
    "# Tensors with values \n",
    "- tf.zeros : creates a tensor of shape and all elements will be zeros (when ran in session)\n",
    "- tf.zeros_like : creates a tensor of shape and type (unless type is specified) as the input_tensor but all elements are zeros.\n",
    "- tf.ones :  similar as above but with 1.\n",
    "- tf.ones_like : similar as above but with 1.\n",
    "- tf.fill : creates a tensor filled with a scalar value"
   ]
  },
  {
   "cell_type": "code",
   "execution_count": 8,
   "metadata": {
    "collapsed": false
   },
   "outputs": [
    {
     "name": "stdout",
     "output_type": "stream",
     "text": [
      "[[0 0 0]\n",
      " [0 0 0]]\n",
      "\n",
      " [[0 0]\n",
      " [0 0]]\n",
      "\n",
      " [[1 1 1]\n",
      " [1 1 1]]\n",
      "\n",
      " [[1 1]\n",
      " [1 1]]\n",
      "\n",
      " [[69 69 69]\n",
      " [69 69 69]]\n"
     ]
    }
   ],
   "source": [
    "class Basic3(Example):\n",
    "\n",
    "    def graphsession(self):\n",
    "        graph = tf.Graph() \n",
    "        with graph.as_default():\n",
    "            zeros1 = tf.zeros([2, 3], tf.int32, name=\"zeros1\") \n",
    "            input_tensor = tf.constant([[0, 1],[0, 1]], name=\"input\")\n",
    "            zeros2 = tf.zeros_like(input_tensor, name=\"zeros2\")\n",
    "            ones1 = tf.ones([2, 3], tf.int32, name=\"ones1\") \n",
    "            ones2 = tf.ones_like(input_tensor, name=\"ones2\")\n",
    "            only69 = tf.fill([2, 3], 69,name=\"only69\") \n",
    "        with tf.Session(graph=graph) as sess:\n",
    "            writer = tf.summary.FileWriter(self.log_path, sess.graph)\n",
    "            x1,x2,x3,x4,x5 = sess.run([zeros1,\n",
    "                             zeros2,\n",
    "                             ones1,\n",
    "                             ones2,\n",
    "                             only69])\n",
    "            print(x1)\n",
    "            print(\"\\n\",x2)\n",
    "            print(\"\\n\",x3)\n",
    "            print(\"\\n\",x4)\n",
    "            print(\"\\n\",x5)\n",
    "            \n",
    "            \n",
    "ex3 = Basic3()"
   ]
  },
  {
   "cell_type": "markdown",
   "metadata": {},
   "source": [
    "# Constants as sequences\n",
    "- tf.linspace : Generates values in an interval.\n",
    "- tf.range : Creates a sequence of numbers.\n",
    "\n",
    "** Tensor objects are not iterable **"
   ]
  },
  {
   "cell_type": "code",
   "execution_count": 9,
   "metadata": {
    "collapsed": false
   },
   "outputs": [
    {
     "name": "stdout",
     "output_type": "stream",
     "text": [
      "[ 10.  13.  16.  19.]\n",
      "\n",
      " [ 10.          12.60000038  15.20000076  17.80000114]\n"
     ]
    }
   ],
   "source": [
    "class Basic4(Example):\n",
    "\n",
    "    def graphsession(self):\n",
    "        graph = tf.Graph() \n",
    "        with graph.as_default():\n",
    "            seq1 = tf.linspace(10.0, 19.0, 4)\n",
    "            seq2 = tf.range(10, 19, 2.6) \n",
    "        with tf.Session(graph=graph) as sess:\n",
    "            writer = tf.summary.FileWriter(self.log_path, sess.graph)\n",
    "            x1, x2 = sess.run([seq1,seq2])\n",
    "            print(x1)\n",
    "            print(\"\\n\",x2)\n",
    "\n",
    "            \n",
    "ex4 = Basic4()"
   ]
  },
  {
   "cell_type": "markdown",
   "metadata": {},
   "source": [
    "# Variables\n",
    "\n",
    "Why tf.constant but tf.Variable and not\n",
    "tf.variable? ->>> tf.Variable is a class, but tf.constant is an op\n",
    "\n",
    "We use **tf.global_variables_initializer()** to initialize all variables.\n",
    "\n",
    "But we can also initialize only a subset of variables using **tf.variables_initializer**\n",
    "\n",
    "Or initialaze a single variable using the method **initializer**"
   ]
  },
  {
   "cell_type": "code",
   "execution_count": 10,
   "metadata": {
    "collapsed": false
   },
   "outputs": [
    {
     "name": "stdout",
     "output_type": "stream",
     "text": [
      "2\n",
      "\n",
      " [2 3]\n",
      "\n",
      " [[0 1]\n",
      " [2 3]]\n",
      "\n",
      " [[ 0.  0.  0. ...,  0.  0.  0.]\n",
      " [ 0.  0.  0. ...,  0.  0.  0.]\n",
      " [ 0.  0.  0. ...,  0.  0.  0.]\n",
      " ..., \n",
      " [ 0.  0.  0. ...,  0.  0.  0.]\n",
      " [ 0.  0.  0. ...,  0.  0.  0.]\n",
      " [ 0.  0.  0. ...,  0.  0.  0.]]\n"
     ]
    }
   ],
   "source": [
    "class Basic5(Example):\n",
    "\n",
    "    def graphsession(self):\n",
    "        graph = tf.Graph() \n",
    "        with graph.as_default():\n",
    "            # create variable a with scalar value\n",
    "            a = tf.Variable(2, name=\"scalar\")\n",
    "            # create variable b as a vector\n",
    "            b = tf.Variable([2, 3], name=\"vector\")\n",
    "            # create variable c as a 2x2 matrix\n",
    "            c = tf.Variable([[0, 1], [2, 3]], name=\"matrix\")\n",
    "            # create variable W as 784 x 10 tensor, filled with zeros\n",
    "            W = tf.Variable(tf.zeros([784,10]))\n",
    "            init = tf.global_variables_initializer()\n",
    "            # init_ab = tf.variables_initializer([a, b], name=\"init_ab\")\n",
    "        with tf.Session(graph=graph) as sess:\n",
    "            writer = tf.summary.FileWriter(self.log_path, sess.graph)\n",
    "            sess.run(init)\n",
    "            # sess.run(init_ab)\n",
    "            # sess.run(W.initializer)\n",
    "            x1, x2, x3, x4 = sess.run([a,b,c,W])\n",
    "            print(x1)\n",
    "            print(\"\\n\",x2)\n",
    "            print(\"\\n\",x3)\n",
    "            print(\"\\n\",x4)\n",
    "\n",
    "            \n",
    "ex5 = Basic5()"
   ]
  },
  {
   "cell_type": "markdown",
   "metadata": {},
   "source": [
    "**We can also evaluate a variable using the method eval()**"
   ]
  },
  {
   "cell_type": "code",
   "execution_count": 11,
   "metadata": {
    "collapsed": false
   },
   "outputs": [
    {
     "name": "stdout",
     "output_type": "stream",
     "text": [
      "[[ 0.84076756 -0.90812659 -0.47966206 ...,  1.12063146  0.27350563\n",
      "  -1.74830937]\n",
      " [ 0.77990538 -0.91419172 -0.86873174 ...,  0.82648492  0.56310332\n",
      "   0.59445041]\n",
      " [ 0.55119783  0.92487913 -0.31647921 ..., -0.0327384   1.56877339\n",
      "  -0.22373645]\n",
      " ..., \n",
      " [-0.80001235  0.28308502  0.22478563 ...,  0.56657737  0.88197315\n",
      "  -1.30233169]\n",
      " [ 0.57932097  0.91847676  1.05598235 ...,  0.20412961  0.71497482\n",
      "  -1.5133673 ]\n",
      " [ 0.66313416 -0.32703808 -0.97717941 ...,  1.62078166  0.2557348\n",
      "   0.04032356]]\n"
     ]
    }
   ],
   "source": [
    "class Basic6(Example):\n",
    "\n",
    "    def graphsession(self):\n",
    "        graph = tf.Graph() \n",
    "        with graph.as_default():\n",
    "            # W is a random 700 x 100 variable object\n",
    "            W = tf.Variable(tf.truncated_normal([700, 10]))\n",
    "        with tf.Session(graph=graph) as sess:\n",
    "            sess.run(W.initializer)\n",
    "            print(W.eval())\n",
    "\n",
    "            \n",
    "ex6 = Basic6()"
   ]
  },
  {
   "cell_type": "markdown",
   "metadata": {},
   "source": [
    "**assign(), assign_add() and assign_sub() are methods to assign values to a variable, this operation needs to be run to take effect**"
   ]
  },
  {
   "cell_type": "code",
   "execution_count": 12,
   "metadata": {
    "collapsed": false
   },
   "outputs": [
    {
     "name": "stdout",
     "output_type": "stream",
     "text": [
      "10.0\n",
      "202.2\n",
      "4046.2\n",
      "5046.2\n",
      "3046.2\n",
      "10.0\n"
     ]
    }
   ],
   "source": [
    "class Basic7(Example):\n",
    "\n",
    "    def graphsession(self):\n",
    "        graph = tf.Graph() \n",
    "        with graph.as_default():\n",
    "            W = tf.Variable(10.)\n",
    "            assign_op = W.assign(20 * W + 2.2)\n",
    "        with tf.Session(graph=graph) as sess:\n",
    "            sess.run(W.initializer)\n",
    "            print(W.eval())\n",
    "            sess.run(assign_op)\n",
    "            print(W.eval())\n",
    "            sess.run(assign_op)\n",
    "            print(W.eval())\n",
    "            sess.run(W.assign_add(1000.)) \n",
    "            print(W.eval())\n",
    "            sess.run(W.assign_sub(2000.)) \n",
    "            print(W.eval())\n",
    "        with tf.Session(graph=graph) as sess:\n",
    "            sess.run(W.initializer)\n",
    "            print(W.eval())\n",
    "ex7 = Basic7()"
   ]
  },
  {
   "cell_type": "markdown",
   "metadata": {},
   "source": [
    "** Each session maintains its own copy of\n",
    "variable **"
   ]
  },
  {
   "cell_type": "code",
   "execution_count": 14,
   "metadata": {
    "collapsed": false
   },
   "outputs": [
    {
     "name": "stdout",
     "output_type": "stream",
     "text": [
      "10.0\n",
      "12.0\n",
      " \n",
      "10.0\n",
      "8.0\n"
     ]
    }
   ],
   "source": [
    "class Basic8(Example):\n",
    "\n",
    "    def graphsession(self):\n",
    "        graph = tf.Graph() \n",
    "        with graph.as_default():\n",
    "            W = tf.Variable(10.)\n",
    "        with tf.Session(graph=graph) as sess:\n",
    "            sess.run(W.initializer)\n",
    "            print(W.eval())\n",
    "            sess.run(W.assign_add(2.)) \n",
    "            print(W.eval())\n",
    "        print(\" \")\n",
    "        with tf.Session(graph=graph) as sess:\n",
    "            sess.run(W.initializer)\n",
    "            print(W.eval())\n",
    "            sess.run(W.assign_sub(2.)) \n",
    "            print(W.eval())\n",
    "ex8 = Basic8()"
   ]
  },
  {
   "cell_type": "markdown",
   "metadata": {},
   "source": [
    "# Session vs InteractiveSession\n",
    "You sometimes see InteractiveSession instead of Session\n",
    "The only difference is an InteractiveSession makes itself the default"
   ]
  },
  {
   "cell_type": "code",
   "execution_count": 15,
   "metadata": {
    "collapsed": false
   },
   "outputs": [
    {
     "name": "stdout",
     "output_type": "stream",
     "text": [
      "30.0\n"
     ]
    }
   ],
   "source": [
    "sess = tf.InteractiveSession()\n",
    "a = tf.constant(5.0)\n",
    "b = tf.constant(6.0)\n",
    "c = a * b\n",
    "# We can just use 'c.eval()' without specifying the context 'sess'\n",
    "print(c.eval())\n",
    "sess.close()"
   ]
  },
  {
   "cell_type": "code",
   "execution_count": 16,
   "metadata": {
    "collapsed": false
   },
   "outputs": [
    {
     "ename": "IndentationError",
     "evalue": "expected an indented block (<ipython-input-16-6695374d3f5a>, line 10)",
     "output_type": "error",
     "traceback": [
      "\u001b[0;36m  File \u001b[0;32m\"<ipython-input-16-6695374d3f5a>\"\u001b[0;36m, line \u001b[0;32m10\u001b[0m\n\u001b[0;31m    print sess.run(c, {a: [1, 2, 3]}) # the tensor a is the key, not the string ‘a’\u001b[0m\n\u001b[0m        ^\u001b[0m\n\u001b[0;31mIndentationError\u001b[0m\u001b[0;31m:\u001b[0m expected an indented block\n"
     ]
    }
   ],
   "source": [
    "# create a placeholder of type float 32-bit, shape is a vector of 3 elements\n",
    "a = tf.placeholder(tf.float32, shape=[3])\n",
    "# create a constant of type float 32-bit, shape is a vector of 3 elements\n",
    "b = tf.constant([5, 5, 5], tf.float32)\n",
    "# use the placeholder as you would a constant or a variable\n",
    "c = a + b # Short for tf.add(a, b)\n",
    "with tf.Session() as sess:\n",
    "# feed [1, 2, 3] to placeholder a via the dict {a: [1, 2, 3]}\n",
    "# fetch value of c\n",
    "print sess.run(c, {a: [1, 2, 3]}) # the tensor a is the key, not the string ‘a’"
   ]
  },
  {
   "cell_type": "code",
   "execution_count": 17,
   "metadata": {
    "collapsed": false
   },
   "outputs": [
    {
     "name": "stdout",
     "output_type": "stream",
     "text": [
      "[ 6.  7.  8.]\n"
     ]
    }
   ],
   "source": [
    "class Basic9(Example):\n",
    "\n",
    "    def graphsession(self):\n",
    "        graph = tf.Graph() \n",
    "        with graph.as_default():\n",
    "            # create a placeholder of type float 32-bit, shape is a vector of 3 elements\n",
    "            a = tf.placeholder(tf.float32, shape=[3])\n",
    "            # create a constant of type float 32-bit, shape is a vector of 3 elements\n",
    "            b = tf.constant([5, 5, 5], tf.float32)\n",
    "            # use the placeholder as you would a constant or a variable\n",
    "            c = a + b # Short for tf.add(a, b)\n",
    "        with tf.Session(graph=graph) as sess:\n",
    "            feed_dict = {a: [1, 2, 3]} \n",
    "            result = sess.run(c,feed_dict=feed_dict)\n",
    "            print(result)\n",
    "\n",
    "ex9 = Basic9()"
   ]
  },
  {
   "cell_type": "code",
   "execution_count": null,
   "metadata": {
    "collapsed": true
   },
   "outputs": [],
   "source": []
  },
  {
   "cell_type": "code",
   "execution_count": null,
   "metadata": {
    "collapsed": true
   },
   "outputs": [],
   "source": []
  }
 ],
 "metadata": {
  "kernelspec": {
   "display_name": "Python 3",
   "language": "python",
   "name": "python3"
  },
  "language_info": {
   "codemirror_mode": {
    "name": "ipython",
    "version": 3
   },
   "file_extension": ".py",
   "mimetype": "text/x-python",
   "name": "python",
   "nbconvert_exporter": "python",
   "pygments_lexer": "ipython3",
   "version": "3.5.2"
  }
 },
 "nbformat": 4,
 "nbformat_minor": 1
}
