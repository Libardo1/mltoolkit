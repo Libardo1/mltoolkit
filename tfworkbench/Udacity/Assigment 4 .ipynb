{
 "cells": [
  {
   "cell_type": "markdown",
   "metadata": {
    "collapsed": false
   },
   "source": [
    "Deep Learning\n",
    "=============\n",
    "\n",
    "Assignment 4\n",
    "------------\n",
    "\n",
    "Previously in `2_fullyconnected.ipynb` and `3_regularization.ipynb`, we trained fully connected networks to classify [notMNIST](http://yaroslavvb.blogspot.com/2011/09/notmnist-dataset.html) characters.\n",
    "\n",
    "The goal of this assignment is make the neural network convolutional."
   ]
  },
  {
   "cell_type": "code",
   "execution_count": 1,
   "metadata": {
    "collapsed": true
   },
   "outputs": [],
   "source": [
    "#all imports\n",
    "from __future__ import print_function\n",
    "import subprocess\n",
    "import numpy as np\n",
    "import tensorflow as tf\n",
    "from six.moves import cPickle as pickle\n",
    "from sklearn.metrics import confusion_matrix\n",
    "from six.moves import range\n",
    "import time\n",
    "import os\n",
    "import matplotlib.pyplot as plt\n",
    "from datetime import datetime, timedelta\n",
    "#%matplotlib inline"
   ]
  },
  {
   "cell_type": "markdown",
   "metadata": {},
   "source": [
    "Loading the data and reshape it in a 4 dimension tensor"
   ]
  },
  {
   "cell_type": "code",
   "execution_count": 2,
   "metadata": {
    "collapsed": false
   },
   "outputs": [
    {
     "name": "stdout",
     "output_type": "stream",
     "text": [
      "Training: (200000, 28, 28, 1) (200000, 10)\n",
      "Validation: (10000, 28, 28, 1) (10000, 10)\n",
      "Testing: (10000, 28, 28, 1) (10000, 10)\n"
     ]
    }
   ],
   "source": [
    "pickle_file = 'notMNIST.pickle'\n",
    "\n",
    "with open(pickle_file, 'rb') as f:\n",
    "  save = pickle.load(f)\n",
    "  train_dataset = save['train_dataset']\n",
    "  train_labels = save['train_labels']\n",
    "  valid_dataset = save['valid_dataset']\n",
    "  valid_labels = save['valid_labels']\n",
    "  test_dataset = save['test_dataset']\n",
    "  test_labels = save['test_labels']\n",
    "  del save\n",
    "\n",
    "\n",
    "image_size = 28\n",
    "num_labels = 10\n",
    "num_channels = 1 # grayscale\n",
    "\n",
    "# reformating the dataset to be a 4 dimension tensor\n",
    "def reformat(dataset, labels):\n",
    "  dataset = dataset.reshape(\n",
    "    (-1, image_size, image_size, num_channels)).astype(np.float32)\n",
    "  labels = (np.arange(num_labels) == labels[:,None]).astype(np.float32)\n",
    "  return dataset, labels\n",
    "\n",
    "train_dataset, train_labels = reformat(train_dataset, train_labels)\n",
    "valid_dataset, valid_labels = reformat(valid_dataset, valid_labels)\n",
    "test_dataset, test_labels = reformat(test_dataset, test_labels)\n",
    "\n",
    "print('Training:', train_dataset.shape, train_labels.shape)\n",
    "print('Validation:', valid_dataset.shape, valid_labels.shape)\n",
    "print('Testing:', test_dataset.shape, test_labels.shape)"
   ]
  },
  {
   "cell_type": "markdown",
   "metadata": {},
   "source": [
    "Data visualization\n",
    "----"
   ]
  },
  {
   "cell_type": "code",
   "execution_count": 3,
   "metadata": {
    "collapsed": false
   },
   "outputs": [
    {
     "data": {
      "image/png": "[encoded data removed]",
      "text/plain": [
       "<matplotlib.figure.Figure at 0x7f3a1d8d1c18>"
      ]
     },
     "metadata": {},
     "output_type": "display_data"
    }
   ],
   "source": [
    "def plot_images(images, cls_true, cls_pred=None):\n",
    "    assert len(images) == len(cls_true) == 9\n",
    "    \n",
    "    # Create figure with 3x3 sub-plots.\n",
    "    fig, axes = plt.subplots(3, 3)\n",
    "    fig.subplots_adjust(hspace=0.3, wspace=0.3)\n",
    "\n",
    "    for i, ax in enumerate(axes.flat):\n",
    "        # Plot image.\n",
    "        ax.imshow(images[i].reshape(img_shape), cmap='binary')\n",
    "\n",
    "        # Show true and predicted classes.\n",
    "        if cls_pred is None:\n",
    "            xlabel = \"True: {0}\".format(cls_true[i])\n",
    "        else:\n",
    "            xlabel = \"True: {0}, Pred: {1}\".format(cls_true[i], cls_pred[i])\n",
    "\n",
    "        # Show the classes as the label on the x-axis.\n",
    "        ax.set_xlabel(xlabel)\n",
    "        \n",
    "        # Remove ticks from the plot.\n",
    "        ax.set_xticks([])\n",
    "        ax.set_yticks([])\n",
    "    \n",
    "    # Ensure the plot is shown correctly with multiple plots\n",
    "    # in a single Notebook cell.\n",
    "    plt.show()\n",
    "\n",
    "#getting the classes from the one-hot-labels\n",
    "train_classes = np.argmax(train_labels, axis=1)\n",
    "train_classes = [chr(i +ord('A')) for i in train_classes]\n",
    "\n",
    "# the images are 28 pixels in each dimension.\n",
    "img_size = 28\n",
    "\n",
    "# Images are stored in one-dimensional arrays of this length.\n",
    "img_size_flat = img_size * img_size\n",
    "\n",
    "# Tuple with height and width of images used to reshape arrays.\n",
    "img_shape = (img_size, img_size)\n",
    "\n",
    "# Get the first images from the test-set.\n",
    "images = train_dataset[10:19]\n",
    "\n",
    "# Get the true classes for those images.\n",
    "cls_true = train_classes[10:19]\n",
    "\n",
    "# Plot the images and labels using our helper-function above.\n",
    "plot_images(images=images, cls_true=cls_true)  \n",
    "\n",
    "# Number of classes, one class for each of 10 digits.\n",
    "num_classes = 10"
   ]
  },
  {
   "cell_type": "markdown",
   "metadata": {},
   "source": [
    "Useful functions\n",
    "---"
   ]
  },
  {
   "cell_type": "code",
   "execution_count": 4,
   "metadata": {
    "collapsed": true
   },
   "outputs": [],
   "source": [
    "def accuracy(predictions, labels):\n",
    "    return (100.0 * np.sum(np.argmax(predictions, 1) == np.argmax(labels, 1))\n",
    "          / predictions.shape[0])\n",
    "\n",
    "#function that performs the weights bias initialization  \n",
    "def init_weights_biases(shape,weights_name,biases_name):\n",
    "    layer = {\\\n",
    "        'weights':tf.Variable(tf.truncated_normal(shape, stddev=0.1),name=weights_name),\n",
    "        'biases':tf.Variable(tf.zeros(shape[-1]),name=biases_name)}\n",
    "    return layer\n",
    "\n",
    "\n",
    "#function that performs the Xavier initialization  \n",
    "def Xa_init_weights_biases(V_shape,weights_name,biases_name):\n",
    "    layer = {\\\n",
    "        'weights':tf.get_variable(weights_name, shape=V_shape,\\\n",
    "                                  initializer=tf.contrib.layers.xavier_initializer()),\n",
    "        'biases':tf.Variable(tf.zeros(V_shape[-1]),name=biases_name)}\n",
    "    return layer\n",
    "\n",
    "#linear function of layer layer using data as input \n",
    "def linear_activation(data,layer):\n",
    "    return tf.add(tf.matmul(data, layer['weights'], name = 'multiply'),\\\n",
    "      layer['biases'],name ='add')  \n",
    "\n",
    "#L2 regularization\n",
    "def L2(beta,layer):\n",
    "    return tf_beta*tf.nn.l2_loss(layer['weights'])\n",
    "\n",
    "\n",
    "#funtion that given the dataset shape X and targets shape Y, returns\n",
    "#two placeholders for the SGD\n",
    "def init_placeholders(shape_X,shape_Y,name_X,name_Y):\n",
    "    X = tf.placeholder(tf.float32, shape =shape_X ,name = name_X)\n",
    "    Y = tf.placeholder(tf.float32, shape=shape_Y, name = name_Y)\n",
    "    return X,Y\n",
    "\n",
    "#initialization of a otimizer (SGD) with exponential decay\n",
    "def sgd_train(error, starter_learning_rate,steps_for_decay,decay_rate):\n",
    "    global_step = tf.Variable(0, trainable=False)\n",
    "    learning_rate = tf.train.exponential_decay(\\\n",
    "                starter_learning_rate,\\\n",
    "                global_step,\\\n",
    "                steps_for_decay,\\\n",
    "                decay_rate, staircase=True)\n",
    "\n",
    "    optimizer = tf.train.GradientDescentOptimizer(learning_rate)\n",
    "    return optimizer.minimize(error, global_step=global_step)"
   ]
  },
  {
   "cell_type": "markdown",
   "metadata": {},
   "source": [
    "Function to creat a convolutional layer with max pooling\n",
    "-----"
   ]
  },
  {
   "cell_type": "code",
   "execution_count": 5,
   "metadata": {
    "collapsed": false
   },
   "outputs": [],
   "source": [
    "def new_conv_layer(input,\n",
    "                   layer,\n",
    "                   use_pooling=True):  # Use 2x2 max-pooling.\n",
    "\n",
    "    weights = layer['weights']\n",
    "    biases = layer['biases']\n",
    "\n",
    "    # Create the TensorFlow operation for convolution.\n",
    "    # Note the strides are set to 1 in all dimensions.\n",
    "    # The first and last stride must always be 1,\n",
    "    # because the first is for the image-number and\n",
    "    # the last is for the input-channel.\n",
    "    # But e.g. strides=[1, 2, 2, 1] would mean that the filter\n",
    "    # is moved 2 pixels across the x- and y-axis of the image.\n",
    "    # The padding is set to 'SAME' which means the input image\n",
    "    # is padded with zeroes so the size of the output is the same.\n",
    "    conv_layer = tf.nn.conv2d(input=input,\n",
    "                         filter=weights,\n",
    "                         strides=[1, 1, 1, 1],\n",
    "                         padding='SAME')\n",
    "\n",
    "    # Add the biases to the results of the convolution.\n",
    "    # A bias-value is added to each filter-channel.\n",
    "    conv_layer += biases\n",
    "\n",
    "    # Use pooling to down-sample the image resolution?\n",
    "    if use_pooling:\n",
    "        # This is 2x2 max-pooling, which means that we\n",
    "        # consider 2x2 windows and select the largest value\n",
    "        # in each window. Then we move 2 pixels to the next window.\n",
    "        conv_layer = tf.nn.max_pool(value=conv_layer,\n",
    "                               ksize=[1, 2, 2, 1],\n",
    "                               strides=[1, 2, 2, 1],\n",
    "                               padding='SAME')\n",
    "    conv_layer = tf.nn.relu(conv_layer)\n",
    "    \n",
    "    return conv_layer"
   ]
  },
  {
   "cell_type": "markdown",
   "metadata": {},
   "source": [
    "This is the model: \n",
    "---\n",
    "2 convolutional layers and 4 connected layers\n"
   ]
  },
  {
   "cell_type": "code",
   "execution_count": 6,
   "metadata": {
    "collapsed": false
   },
   "outputs": [],
   "source": [
    "def network(\\\n",
    "            data,\\\n",
    "            V_hidden_layer_1,\\\n",
    "            V_hidden_layer_2,\\\n",
    "            V_hidden_layer_3,\\\n",
    "            V_hidden_layer_4,\\\n",
    "            V_hidden_layer_5,\\\n",
    "            V_hidden_layer_6):\n",
    "    with tf.name_scope('Convolution_1'):\n",
    "        conv_layer1 = new_conv_layer(data,V_hidden_layer_1,use_pooling=True)\n",
    "    with tf.name_scope('Convolution_2'):\n",
    "        conv_layer2 = new_conv_layer(conv_layer1,V_hidden_layer_2,use_pooling=True)\n",
    "    with tf.name_scope('Reshape'):\n",
    "        shape = conv_layer2.get_shape().as_list() \n",
    "        reshape = tf.reshape(conv_layer2, [shape[0], shape[1] * shape[2] * shape[3]])\n",
    "    with tf.name_scope('Hidden_Layer_1'):\n",
    "        hidden_la1 = tf.nn.relu(linear_activation(reshape,V_hidden_layer_3)) \n",
    "    with tf.name_scope('Hidden_Layer_2'):\n",
    "        hidden_la2 = tf.sigmoid(linear_activation(hidden_la1,V_hidden_layer_4))\n",
    "    with tf.name_scope('Hidden_Layer_3'):\n",
    "        hidden_la3 = tf.sigmoid(linear_activation(hidden_la2,V_hidden_layer_5))     \n",
    "    with tf.name_scope('Output_Layer'):\n",
    "        logits = linear_activation(hidden_la3,V_hidden_layer_6) \n",
    "    return logits"
   ]
  },
  {
   "cell_type": "markdown",
   "metadata": {},
   "source": [
    "Tensorflow graph\n",
    "----"
   ]
  },
  {
   "cell_type": "code",
   "execution_count": 7,
   "metadata": {
    "collapsed": false
   },
   "outputs": [],
   "source": [
    "batch_size = 128\n",
    "patch_size = 6\n",
    "filters_1 = 16\n",
    "filters_2 = 32\n",
    "hidden_nodes_1 = 60\n",
    "hidden_nodes_2 = 40\n",
    "hidden_nodes_3 = 20\n",
    "\n",
    "\n",
    "graph = tf.Graph() \n",
    "with graph.as_default():\n",
    "    \n",
    "    #Placeholders for the SGD.\n",
    "    tf_train_dataset, tf_train_labels  = init_placeholders(\\\n",
    "                                            (batch_size, image_size,image_size, num_channels),\\\n",
    "                                            (batch_size, num_labels),'X','Y')\n",
    "\n",
    "    #constants: we use then to see accuracity of the network\n",
    "    tf_valid_dataset = tf.constant(valid_dataset, name ='X_va')\n",
    "    tf_test_dataset = tf.constant(test_dataset, name ='X_test')\n",
    "\n",
    "    #constant for the L2 regularization \n",
    "    tf_beta = tf.constant(0.005)\n",
    "    \n",
    "      \n",
    "    #hidden layer 1 - normal initialization \n",
    "    tf_hidden_layer_1 = init_weights_biases(\\\n",
    "                    [patch_size, patch_size, num_channels, filters_1],\n",
    "                    \"weights1\",'biases1')\n",
    "\n",
    "    #hidden layer 2 - normal initialization \n",
    "    tf_hidden_layer_2 = init_weights_biases(\\\n",
    "                [patch_size, patch_size, filters_1, filters_2],\n",
    "                \"weights2\",'biases2')\n",
    "    \n",
    "    #hidden layer 3 - Xavier initialization\n",
    "    tf_hidden_layer_3 = init_weights_biases(\\\n",
    "                    [image_size // 4 * image_size // 4 * filters_2, hidden_nodes_1],\n",
    "                    \"weights3\",'biases3')\n",
    "\n",
    "\n",
    "    #hidden layer 4 - Xavier initialization \n",
    "    tf_hidden_layer_4 = init_weights_biases(\\\n",
    "                [hidden_nodes_1, hidden_nodes_2],\n",
    "                \"weights4\",'biases4')\n",
    "    \n",
    "    #hidden layer 5 - normal initialization \n",
    "    tf_hidden_layer_5 = init_weights_biases(\\\n",
    "                [hidden_nodes_2, hidden_nodes_3],\n",
    "                \"weights5\",'biases5')\n",
    "    \n",
    "    \n",
    "    #hidden layer 6 - normal initialization \n",
    "    tf_hidden_layer_6 = init_weights_biases(\\\n",
    "                [hidden_nodes_3, num_labels],\n",
    "                \"weights6\",'biases6')  \n",
    "    \n",
    "    #histogram summaries for weights\n",
    "    tf.summary.histogram('weights1_summ',tf_hidden_layer_1['weights'])\n",
    "    tf.summary.histogram('weights2_summ',tf_hidden_layer_2['weights'])\n",
    "    tf.summary.histogram('weights3_summ',tf_hidden_layer_3['weights'])\n",
    "    tf.summary.histogram('weights4_summ',tf_hidden_layer_4['weights'])\n",
    "    tf.summary.histogram('weights5_summ',tf_hidden_layer_5['weights'])\n",
    "    tf.summary.histogram('weights6_summ',tf_hidden_layer_6['weights'])\n",
    "        \n",
    "    #the NN with the train dataset\n",
    "    logits = network(\\\n",
    "                     tf_train_dataset,\\\n",
    "                     tf_hidden_layer_1,\\\n",
    "                     tf_hidden_layer_2,\\\n",
    "                     tf_hidden_layer_3,\\\n",
    "                     tf_hidden_layer_4,\\\n",
    "                     tf_hidden_layer_5,\\\n",
    "                     tf_hidden_layer_6)\n",
    "\n",
    "    #the NN with the valid dataset\n",
    "    valid_network = network(\\\n",
    "                    tf_valid_dataset,\\\n",
    "                    tf_hidden_layer_1,\\\n",
    "                    tf_hidden_layer_2,\\\n",
    "                    tf_hidden_layer_3,\\\n",
    "                    tf_hidden_layer_4,\\\n",
    "                    tf_hidden_layer_5,\\\n",
    "                    tf_hidden_layer_6)\n",
    "    \n",
    "    #the NN with the test dataset\n",
    "    test_network = network(\\\n",
    "                    tf_test_dataset,\\\n",
    "                    tf_hidden_layer_1,\\\n",
    "                    tf_hidden_layer_2,\\\n",
    "                    tf_hidden_layer_3,\\\n",
    "                    tf_hidden_layer_4,\\\n",
    "                    tf_hidden_layer_5,\\\n",
    "                    tf_hidden_layer_6)\n",
    "\n",
    "    with tf.name_scope('loss'):\n",
    "      loss = tf.reduce_mean(\\\n",
    "        tf.nn.softmax_cross_entropy_with_logits(logits=logits,labels=tf_train_labels))\\\n",
    "        #+ L2(tf_beta,tf_hidden_layer_1)\\\n",
    "        #+ L2(tf_beta,tf_hidden_layer_2)\\\n",
    "        #+ L2(tf_beta,tf_hidden_layer_3)\\\n",
    "        #+ L2(tf_beta,tf_hidden_layer_4)\n",
    "      tf.summary.scalar(loss.op.name,loss) #write loss to log\n",
    "\n",
    "    #Optimizer.\n",
    "    with tf.name_scope('training'):\n",
    "        optimizer = sgd_train(loss, 0.9,100,0.96)    \n",
    "    #with tf.name_scope('training'):\n",
    "    #optimizer = tf.train.GradientDescentOptimizer(0.05).minimize(loss)\n",
    "\n",
    "    #applying the softmax function on the \n",
    "    #network with the train, valid,\n",
    "    #and test datasets, respectively.       \n",
    "    train_prediction = tf.nn.softmax(logits, name='train_network')\n",
    "    train_pred_cls = tf.argmax(train_prediction, dimension=1)\n",
    "    valid_prediction = tf.nn.softmax(valid_network, name='valid_network')\n",
    "    test_prediction = tf.nn.softmax(test_network, name='test_network')\n",
    "\n",
    "    #Minibatch accuracy\n",
    "    with tf.name_scope('accuracy'):\n",
    "        correct_pred = tf.equal(tf.argmax(train_prediction, 1), tf.argmax(tf_train_labels, 1))\n",
    "        acc_op = tf.reduce_mean(tf.cast(correct_pred,'float'))\n",
    "        tf.summary.scalar(acc_op.op.name,acc_op) #write acc to log\n"
   ]
  },
  {
   "cell_type": "markdown",
   "metadata": {},
   "source": [
    "Running Session\n",
    "----"
   ]
  },
  {
   "cell_type": "code",
   "execution_count": null,
   "metadata": {
    "collapsed": false
   },
   "outputs": [
    {
     "name": "stdout",
     "output_type": "stream",
     "text": [
      "Initialized\n",
      "(128, 28, 28, 1)\n",
      "(128, 10)\n",
      "Minibatch loss at step 0: 2.331510\n",
      "Minibatch accuracy: 5.47%\n"
     ]
    }
   ],
   "source": [
    "#direction for the writer to log\n",
    "log_basedir = 'logs'\n",
    "run_label = time.strftime('%d-%m-%Y_%H-%M-%S') #e.g. 12-11-2016_18-20-45\n",
    "log_path = os.path.join(log_basedir,run_label)\n",
    "\n",
    "num_steps = 1\n",
    "\n",
    "initial_time = time.time()\n",
    "\n",
    "with tf.Session(graph=graph) as session:\n",
    "  summary_writer = tf.summary.FileWriter(log_path, session.graph) \n",
    "  all_summaries = tf.summary.merge_all() \n",
    "  tf.global_variables_initializer().run()\n",
    "  print('Initialized')\n",
    "  for step in range(num_steps):\n",
    "   \n",
    "    # Pick an offset within the training data, which has been randomized.\n",
    "    offset = (step * batch_size) % (train_labels.shape[0] - batch_size)\n",
    "\n",
    "    # Generate a minibatch.\n",
    "    batch_data = train_dataset[offset:(offset + batch_size), :]\n",
    "    batch_labels = train_labels[offset:(offset + batch_size), :]\n",
    "    print(batch_data.shape)\n",
    "    print(batch_labels.shape)\n",
    "    # Prepare a dictionary telling the session where to feed the minibatch.\n",
    "    feed_dict = {tf_train_dataset : batch_data, tf_train_labels : batch_labels}\n",
    "    \n",
    "    #we are going to run the session and count the duration of the running\n",
    "    start_time = time.time()\n",
    "    _, l, predictions, acc, summary = session.run(\n",
    "      [optimizer, loss, train_prediction, acc_op, all_summaries], feed_dict=feed_dict)\n",
    "    duration = time.time() - start_time\n",
    "    \n",
    "    #writing the log\n",
    "    summary_writer.add_summary(summary,step)\n",
    "    summary_writer.flush()\n",
    "    \n",
    "    #Printing an overwiew\n",
    "    if (step % 1000 == 0):\n",
    "        print(\"Minibatch loss at step %d: %f\" % (step, l))\n",
    "        print(\"Minibatch accuracy: %.2f%%\" % (acc*100))\n",
    "        print(\"Validation accuracy: %.1f%%\" % accuracy(\n",
    "        valid_prediction.eval(), valid_labels))\n",
    "        print('Duration: %.3f sec' % duration)\n",
    "        #print_test_accuracy()\n",
    "        \n",
    "  #after the loop compair our model with the test dataset    \n",
    "  print(\"Test accuracy: %.1f%%\" % \\\n",
    "    accuracy(test_prediction.eval(), test_labels))\n",
    "\n",
    "\n",
    "#subprocess.call(['speech-dispatcher'])        \n",
    "#subprocess.call(['spd-say', '\"over\"'])\n",
    "general_duration = time.time() - initial_time\n",
    "sec = timedelta(seconds=int(general_duration))\n",
    "d_time = datetime(1,1,1) + sec\n",
    "print(' ')\n",
    "print('The duration of the whole training with % s steps is %.2f seconds,'\\\n",
    "      % (num_steps,general_duration))\n",
    "print(\"which is equal to:  %d:%d:%d:%d\" % (d_time.day-1, d_time.hour, d_time.minute, d_time.second), end='')\n",
    "print(\" (DAYS:HOURS:MIN:SEC)\")\n",
    "print(' ')\n",
    "print(log_path)\n",
    "#!tensorboard --logdir=!!!copy log_path here!!!"
   ]
  },
  {
   "cell_type": "code",
   "execution_count": null,
   "metadata": {
    "collapsed": false
   },
   "outputs": [],
   "source": [
    "!tensorboard --logdir=logs/17-04-2017_15-29-49"
   ]
  },
  {
   "cell_type": "code",
   "execution_count": null,
   "metadata": {
    "collapsed": true
   },
   "outputs": [],
   "source": [
    "#Com os valores \n",
    "\n",
    "#batch_size = 128\n",
    "#patch_size = 6\n",
    "#filters_1 = 16\n",
    "#filters_2 = 32\n",
    "#hidden_nodes_1 = 4000\n",
    "#hidden_nodes_2 = 2000\n",
    "#hidden_nodes_3 = 1000\n",
    "\n",
    "#obtive apenas -> Test accuracy: 96.9%"
   ]
  },
  {
   "cell_type": "code",
   "execution_count": null,
   "metadata": {
    "collapsed": true
   },
   "outputs": [],
   "source": []
  }
 ],
 "metadata": {
  "kernelspec": {
   "display_name": "Python 3",
   "language": "python",
   "name": "python3"
  },
  "language_info": {
   "codemirror_mode": {
    "name": "ipython",
    "version": 3
   },
   "file_extension": ".py",
   "mimetype": "text/x-python",
   "name": "python",
   "nbconvert_exporter": "python",
   "pygments_lexer": "ipython3",
   "version": "3.5.2"
  }
 },
 "nbformat": 4,
 "nbformat_minor": 1
}
